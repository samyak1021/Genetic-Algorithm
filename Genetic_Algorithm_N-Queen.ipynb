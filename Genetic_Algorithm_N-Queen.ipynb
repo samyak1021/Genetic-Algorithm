{
 "cells": [
  {
   "cell_type": "code",
   "execution_count": 30,
   "metadata": {},
   "outputs": [],
   "source": [
    "import random\n",
    "def randomArray():\n",
    "    array = []\n",
    "    for i in range(4):\n",
    "        randomInteger = random.randint(0,3)\n",
    "        array.append(randomInteger)\n",
    "    return array\n",
    "\n",
    "    "
   ]
  },
  {
   "cell_type": "code",
   "execution_count": 31,
   "metadata": {},
   "outputs": [
    {
     "name": "stdout",
     "output_type": "stream",
     "text": [
      "[[3, 3, 2, 1], [3, 3, 3, 2], [1, 2, 0, 1], [1, 2, 2, 0], [3, 0, 3, 1], [0, 1, 2, 1], [1, 2, 3, 2], [0, 3, 1, 2], [0, 1, 0, 3], [2, 2, 0, 0], [2, 2, 3, 2], [3, 2, 3, 0], [1, 3, 0, 3], [3, 1, 0, 2], [2, 3, 1, 3], [3, 1, 0, 2], [3, 0, 0, 2], [0, 0, 2, 0], [2, 1, 0, 2], [3, 0, 0, 2], [3, 3, 2, 3], [1, 2, 0, 0], [1, 3, 0, 2], [3, 2, 0, 3], [2, 3, 3, 0]]\n"
     ]
    }
   ],
   "source": [
    "individuals =[]\n",
    "for i in range(25):\n",
    "    individuals.append(randomArray())\n",
    "print(individuals)\n",
    "    "
   ]
  },
  {
   "cell_type": "code",
   "execution_count": 33,
   "metadata": {},
   "outputs": [
    {
     "data": {
      "text/plain": [
       "[3, 2, 2, 4, 5, 2, 2, 1, 4, 2, 1, 2, 3, 4, 3, 2, 3, 2, 2, 3, 1, 2, 4, 2, 2]"
      ]
     },
     "execution_count": 33,
     "metadata": {},
     "output_type": "execute_result"
    }
   ],
   "source": [
    "clash = 0\n",
    "fitnessScores = []\n",
    "def clashes(individuals):\n",
    "    for x in individuals:\n",
    "        if(len(x)==len(set(x))):\n",
    "            clash = clash\n",
    "        else:\n",
    "            clash = len(x) - len(set(x))\n",
    "        for i in range(3):\n",
    "            if(abs(x[i]-x[i+1]) == 1 ):\n",
    "                clash += 1\n",
    "            else:\n",
    "                clash = clash\n",
    "        fitnessScores.append(clash)\n",
    "#     print(fitnessScores)\n",
    "    return fitnessScore\n",
    "        \n",
    "clashes(individuals)            "
   ]
  },
  {
   "cell_type": "code",
   "execution_count": null,
   "metadata": {},
   "outputs": [],
   "source": []
  }
 ],
 "metadata": {
  "kernelspec": {
   "display_name": "Python 3",
   "language": "python",
   "name": "python3"
  },
  "language_info": {
   "codemirror_mode": {
    "name": "ipython",
    "version": 3
   },
   "file_extension": ".py",
   "mimetype": "text/x-python",
   "name": "python",
   "nbconvert_exporter": "python",
   "pygments_lexer": "ipython3",
   "version": "3.7.6"
  }
 },
 "nbformat": 4,
 "nbformat_minor": 4
}
