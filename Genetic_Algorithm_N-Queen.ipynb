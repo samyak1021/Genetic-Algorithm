{
 "cells": [
  {
   "cell_type": "code",
   "execution_count": 18,
   "metadata": {},
   "outputs": [],
   "source": [
    "import random\n",
    "def randomArray():\n",
    "    array = []\n",
    "    for i in range(5):\n",
    "        randomInteger = random.randint(0,4)\n",
    "        array.append(randomInteger)\n",
    "    return array\n",
    "\n",
    "    "
   ]
  },
  {
   "cell_type": "code",
   "execution_count": 25,
   "metadata": {},
   "outputs": [
    {
     "name": "stdout",
     "output_type": "stream",
     "text": [
      "[[2, 2, 1, 3, 4], [0, 2, 0, 4, 2], [0, 0, 4, 0, 3], [3, 0, 1, 1, 3], [3, 4, 3, 4, 1], [0, 3, 3, 4, 0], [3, 0, 3, 4, 4], [3, 2, 4, 2, 3], [3, 2, 3, 3, 2], [1, 3, 3, 3, 3], [2, 3, 1, 3, 3], [3, 4, 3, 3, 4], [2, 0, 2, 0, 3], [3, 1, 1, 0, 0], [3, 2, 0, 4, 1], [2, 2, 1, 1, 2], [4, 2, 2, 1, 4], [2, 3, 4, 0, 1], [2, 4, 3, 3, 3], [3, 4, 2, 2, 2], [1, 0, 3, 4, 1], [3, 0, 0, 1, 3], [0, 0, 2, 4, 3], [2, 4, 4, 1, 2], [3, 3, 1, 4, 4]]\n"
     ]
    }
   ],
   "source": [
    "individuals =[]\n",
    "for i in range(25):\n",
    "    individuals.append(randomArray())\n",
    "print(individuals)\n",
    "    "
   ]
  },
  {
   "cell_type": "code",
   "execution_count": 26,
   "metadata": {},
   "outputs": [
    {
     "data": {
      "text/plain": [
       "{0: 3,\n",
       " 1: 4,\n",
       " 2: 4,\n",
       " 3: 6,\n",
       " 4: 7,\n",
       " 5: 4,\n",
       " 6: 3,\n",
       " 7: 4,\n",
       " 8: 7,\n",
       " 9: 7,\n",
       " 10: 5,\n",
       " 11: 7,\n",
       " 12: 3,\n",
       " 13: 5,\n",
       " 14: 2,\n",
       " 15: 6,\n",
       " 16: 6,\n",
       " 17: 4,\n",
       " 18: 4,\n",
       " 19: 5,\n",
       " 20: 6,\n",
       " 21: 4,\n",
       " 22: 4,\n",
       " 23: 5,\n",
       " 24: 3}"
      ]
     },
     "execution_count": 26,
     "metadata": {},
     "output_type": "execute_result"
    }
   ],
   "source": [
    "def clashes(individuals):\n",
    "    fitnessScores = {}\n",
    "    \n",
    "    for x in individuals:\n",
    "        clash = 0\n",
    "        for i in range(4):\n",
    "            for j in range(i+1,len(x)):\n",
    "                if(x[i]==x[j]):\n",
    "                    clash +=1\n",
    "                if(abs(x[i]-x[j])==abs(i-j)):\n",
    "                    clash +=1\n",
    "            \n",
    "        fitnessScores.update({individuals.index(x):clash})\n",
    "    return fitnessScores\n",
    "        \n",
    "clashes(individuals)            "
   ]
  },
  {
   "cell_type": "code",
   "execution_count": null,
   "metadata": {},
   "outputs": [],
   "source": []
  }
 ],
 "metadata": {
  "kernelspec": {
   "display_name": "Python 3",
   "language": "python",
   "name": "python3"
  },
  "language_info": {
   "codemirror_mode": {
    "name": "ipython",
    "version": 3
   },
   "file_extension": ".py",
   "mimetype": "text/x-python",
   "name": "python",
   "nbconvert_exporter": "python",
   "pygments_lexer": "ipython3",
   "version": "3.7.6"
  }
 },
 "nbformat": 4,
 "nbformat_minor": 4
}
